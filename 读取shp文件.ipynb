{
 "cells": [
  {
   "cell_type": "markdown",
   "metadata": {},
   "source": [
    "## <div align = center>读取shp文件脚本</div>\n",
    "<div align = center>Read SHP file script</div>\n",
    "\n",
    "---\n",
    "\n",
    "#### 实现功能\n",
    "<font color=#808080 size=2>通过geopandas读取shp文件</font>"
   ]
  },
  {
   "cell_type": "code",
   "execution_count": null,
   "metadata": {},
   "outputs": [],
   "source": [
    "'''\n",
    "\n",
    "Created on 2021年2月23日\n",
    "@author: lyx\n",
    "\n",
    "\n",
    "'''\n",
    "\n",
    "#coding=utf-8\n",
    "import geopandas as gpd \n",
    "file = r'E:\\data\\全球行政区划_lsf_20210312\\Asia.shp'\n",
    "data = gpd.read_file(file)\n",
    "\n",
    "#通过字段名分组\n",
    "df = data.groupby(['NAME_0','NAME_1','NAME_2','NAME_3']).size()\n",
    "print(df)"
   ]
  }
 ],
 "metadata": {
  "kernelspec": {
   "display_name": "Python 3",
   "language": "python",
   "name": "python3"
  },
  "language_info": {
   "codemirror_mode": {
    "name": "ipython",
    "version": 3
   },
   "file_extension": ".py",
   "mimetype": "text/x-python",
   "name": "python",
   "nbconvert_exporter": "python",
   "pygments_lexer": "ipython3",
   "version": "3.7.4"
  }
 },
 "nbformat": 4,
 "nbformat_minor": 2
}

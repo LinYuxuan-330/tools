{
 "cells": [
  {
   "cell_type": "markdown",
   "metadata": {},
   "source": [
    "## <div align = center>连续播放网页脚本</div>\n",
    "<div align = center>Play web script continuously</div>\n",
    "\n",
    "---\n",
    "\n",
    "#### 实现功能\n",
    "<font color=#808080 size=2>调用默认浏览器开启网页，自己设定时间后关闭</font>"
   ]
  },
  {
   "cell_type": "code",
   "execution_count": 1,
   "metadata": {},
   "outputs": [],
   "source": [
    "'''\n",
    "\n",
    "Created on 2021年2月23日\n",
    "@author: lyx\n",
    "\n",
    "\n",
    "'''\n",
    "\n",
    "#coding=utf-8\n",
    "import webbrowser as web\n",
    "import os\n",
    "import json\n",
    "import time\n",
    "from os.path import exists\n",
    "import sys"
   ]
  },
  {
   "cell_type": "markdown",
   "metadata": {},
   "source": [
    "#### 【函数】读取json配置文件信息\n",
    "---\n",
    "\n",
    "<font color=#808080 size=2>读取json文件并且获取文件中需要展示的网址信息以及间隔时间和默认浏览器进程名</font>"
   ]
  },
  {
   "cell_type": "code",
   "execution_count": 2,
   "metadata": {},
   "outputs": [],
   "source": [
    "def readjson():\n",
    "    with open('./Configuration.json','r',encoding='utf8')as fp:\n",
    "        json_data = json.load(fp)\n",
    "    return json_data"
   ]
  },
  {
   "cell_type": "markdown",
   "metadata": {},
   "source": [
    "#### 【函数】打开网址\n",
    "\n",
    "---\n",
    "\n",
    "<font color=#808080 size=2>访问接收到的网址地址并设置每次打开新页面的等待时间</font>"
   ]
  },
  {
   "cell_type": "code",
   "execution_count": 3,
   "metadata": {},
   "outputs": [],
   "source": [
    "def Playwebsite(json_data):\n",
    "#     defaultBrowser = json_data['defaultBrowser']\n",
    "    while(1):  #循环\n",
    "        for i in json_data['data']:\n",
    "            web.open(i['url'])  #访问网址地址，语法 .open(url,new=0,Autorasise=True),设置 new 的值不同有不同的效果0、1、2\n",
    "            time.sleep(i['time'])  #设置每次打开新页面的等待时间\n",
    "            os.system('taskkill /IM {0}'.format(json_data['defaultBrowser']))  #你设置的默认使用浏览器，其他的更换下就行"
   ]
  },
  {
   "cell_type": "markdown",
   "metadata": {},
   "source": [
    "#### 【函数】主体\n",
    "----\n"
   ]
  },
  {
   "cell_type": "code",
   "execution_count": 4,
   "metadata": {},
   "outputs": [],
   "source": [
    "def main():\n",
    "    json_data = readjson()\n",
    "    #读取json\n",
    "    Playwebsite(json_data)"
   ]
  },
  {
   "cell_type": "markdown",
   "metadata": {},
   "source": [
    "#### 运行主体\n",
    "------\n"
   ]
  },
  {
   "cell_type": "code",
   "execution_count": null,
   "metadata": {},
   "outputs": [],
   "source": [
    "if __name__ == '__main__':\n",
    "    main()        "
   ]
  }
 ],
 "metadata": {
  "kernelspec": {
   "display_name": "Python 3",
   "language": "python",
   "name": "python3"
  },
  "language_info": {
   "codemirror_mode": {
    "name": "ipython",
    "version": 3
   },
   "file_extension": ".py",
   "mimetype": "text/x-python",
   "name": "python",
   "nbconvert_exporter": "python",
   "pygments_lexer": "ipython3",
   "version": "3.7.4"
  }
 },
 "nbformat": 4,
 "nbformat_minor": 2
}

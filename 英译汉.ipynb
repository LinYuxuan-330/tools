{
 "cells": [
  {
   "cell_type": "markdown",
   "metadata": {},
   "source": [
    "## <div align = center>翻译脚本</div>\n",
    "<div align = center>Translation script</div>\n",
    "\n",
    "---\n",
    "\n",
    "#### 实现功能\n",
    "<font color=#808080 size=2>调用百度翻译api接口，实现翻译</font>"
   ]
  },
  {
   "cell_type": "code",
   "execution_count": null,
   "metadata": {},
   "outputs": [],
   "source": [
    "'''\n",
    "\n",
    "Created on 2021年2月23日\n",
    "@author: lyx\n",
    "\n",
    "\n",
    "'''\n",
    "\n",
    "#coding=utf-8\n",
    "import http.client\n",
    "import hashlib\n",
    "import urllib\n",
    "import random\n",
    "import json\n",
    "import pandas as pd\n",
    "import numpy as np"
   ]
  },
  {
   "cell_type": "markdown",
   "metadata": {},
   "source": [
    "#### 【函数】翻译\n",
    "\n",
    "---\n",
    "\n",
    "<font color=#808080 size=2>读取文本翻译成设置的语种</font>"
   ]
  },
  {
   "cell_type": "code",
   "execution_count": 4,
   "metadata": {},
   "outputs": [],
   "source": [
    "def trans_baidu(fromlan,tolan,text,appid,secretKey,myurl):\n",
    "    httpClient = None\n",
    "    q = text\n",
    "    fromLang = fromlan\n",
    "    toLang = tolan\n",
    "    salt = random.randint(32768, 65536)\n",
    "    sign = appid+q+str(salt)+secretKey\n",
    "    sign = hashlib.md5(sign.encode()).hexdigest()\n",
    "    the_myurl = myurl+'?appid='+appid+'&q='+urllib.parse.quote(q)+'&from='+fromLang+'&to='+toLang+'&salt='+str(salt)+'&sign='+sign\n",
    "    try:\n",
    "        httpClient = http.client.HTTPConnection('api.fanyi.baidu.com')\n",
    "        httpClient.request('GET', the_myurl)\n",
    "    \n",
    "        #response是HTTPResponse对象\n",
    "        response = httpClient.getresponse()\n",
    "        res=response.read()\n",
    "        print (res)\n",
    "        json_data=json.loads(res)\n",
    "        ret = json_data[\"trans_result\"][0][\"dst\"]\n",
    "        #print ret\n",
    "        return ret\n",
    "    except Exception as e:\n",
    "        print(e)\n",
    "        return str(e)\n",
    "    finally:\n",
    "        if httpClient:\n",
    "            httpClient.close()\n"
   ]
  },
  {
   "cell_type": "markdown",
   "metadata": {},
   "source": [
    "#### 运行主体\n",
    "------\n",
    "\n",
    "<font color=#808080 size=2>appid：在百度翻译APP上开通翻译服务后获得的编号</font>\n",
    "<font color=#808080 size=2><br>secretKey：在百度翻译APP上开通翻译服务后获得的密匙</font>\n",
    "<font color=#808080 size=2><br>myurl：调用百度翻译api的网址</font>\n",
    "<font color=#808080 size=2><br>text：需要翻译的文本</font>\n",
    "<font color=#808080 size=2><br>fromlan：原文本的语种</font>\n",
    "<font color=#808080 size=2><br>tolan：需要翻译成的语种</font>"
   ]
  },
  {
   "cell_type": "code",
   "execution_count": 5,
   "metadata": {},
   "outputs": [
    {
     "name": "stdout",
     "output_type": "stream",
     "text": [
      "apple\n",
      "b'\\n{\"error_code\":\"58000\",\"error_msg\":\"INVALID_CLIENT_IP\",\"data\":{\"client_ip\":\"117.29.43.129\"}}'\n",
      "'trans_result'\n"
     ]
    }
   ],
   "source": [
    "if __name__ == '__main__':\n",
    "    appid = '20210311000723446' #你的appid\n",
    "    secretKey = 'NwLcqiMQ8X3wWDzOo8Qf' #你的密钥\n",
    "    myurl = '/api/trans/vip/translate'\n",
    "    text = str(input())\n",
    "    #选择翻译前语言\n",
    "    fromlan = 'auto'\n",
    "    #选择翻译后语言\n",
    "    tolan = 'zh'\n",
    "    trans_baidu(fromlan,tolan,text,appid,secretKey,myurl)"
   ]
  },
  {
   "cell_type": "code",
   "execution_count": null,
   "metadata": {},
   "outputs": [],
   "source": []
  }
 ],
 "metadata": {
  "kernelspec": {
   "display_name": "Python 3",
   "language": "python",
   "name": "python3"
  },
  "language_info": {
   "codemirror_mode": {
    "name": "ipython",
    "version": 3
   },
   "file_extension": ".py",
   "mimetype": "text/x-python",
   "name": "python",
   "nbconvert_exporter": "python",
   "pygments_lexer": "ipython3",
   "version": "3.7.4"
  }
 },
 "nbformat": 4,
 "nbformat_minor": 2
}
